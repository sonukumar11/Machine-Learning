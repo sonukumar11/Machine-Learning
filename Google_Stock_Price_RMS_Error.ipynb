{
  "nbformat": 4,
  "nbformat_minor": 0,
  "metadata": {
    "colab": {
      "name": "Google_Stock_Price_RMS_Error.ipynb",
      "provenance": []
    },
    "kernelspec": {
      "name": "python3",
      "display_name": "Python 3"
    },
    "language_info": {
      "name": "python"
    }
  },
  "cells": [
    {
      "cell_type": "code",
      "metadata": {
        "id": "Y25P5jh_fify"
      },
      "source": [
        "import numpy as np\n",
        "import pandas as pd\n",
        "import matplotlib.pyplot as plt"
      ],
      "execution_count": null,
      "outputs": []
    },
    {
      "cell_type": "code",
      "metadata": {
        "id": "T9jLeWNofkjM"
      },
      "source": [
        "train_data = pd.read_csv('Google_Stock_Price_Train.csv')\n",
        "test_data = pd.read_csv('Google_Stock_Price_Test.csv')"
      ],
      "execution_count": null,
      "outputs": []
    },
    {
      "cell_type": "code",
      "metadata": {
        "colab": {
          "base_uri": "https://localhost:8080/",
          "height": 423
        },
        "id": "unNjW0i4gBgf",
        "outputId": "f907b4d6-f020-4df6-eddf-bcc27d8c970d"
      },
      "source": [
        "train_data"
      ],
      "execution_count": null,
      "outputs": [
        {
          "output_type": "execute_result",
          "data": {
            "text/html": [
              "<div>\n",
              "<style scoped>\n",
              "    .dataframe tbody tr th:only-of-type {\n",
              "        vertical-align: middle;\n",
              "    }\n",
              "\n",
              "    .dataframe tbody tr th {\n",
              "        vertical-align: top;\n",
              "    }\n",
              "\n",
              "    .dataframe thead th {\n",
              "        text-align: right;\n",
              "    }\n",
              "</style>\n",
              "<table border=\"1\" class=\"dataframe\">\n",
              "  <thead>\n",
              "    <tr style=\"text-align: right;\">\n",
              "      <th></th>\n",
              "      <th>Date</th>\n",
              "      <th>Open</th>\n",
              "      <th>High</th>\n",
              "      <th>Low</th>\n",
              "      <th>Close</th>\n",
              "      <th>Volume</th>\n",
              "    </tr>\n",
              "  </thead>\n",
              "  <tbody>\n",
              "    <tr>\n",
              "      <th>0</th>\n",
              "      <td>3/1/2012</td>\n",
              "      <td>325.25</td>\n",
              "      <td>332.83</td>\n",
              "      <td>324.97</td>\n",
              "      <td>663.59</td>\n",
              "      <td>7380500.0</td>\n",
              "    </tr>\n",
              "    <tr>\n",
              "      <th>1</th>\n",
              "      <td>4/1/2012</td>\n",
              "      <td>331.27</td>\n",
              "      <td>333.87</td>\n",
              "      <td>329.08</td>\n",
              "      <td>666.45</td>\n",
              "      <td>5749400.0</td>\n",
              "    </tr>\n",
              "    <tr>\n",
              "      <th>2</th>\n",
              "      <td>5/1/2012</td>\n",
              "      <td>329.83</td>\n",
              "      <td>330.75</td>\n",
              "      <td>326.89</td>\n",
              "      <td>657.21</td>\n",
              "      <td>6590300.0</td>\n",
              "    </tr>\n",
              "    <tr>\n",
              "      <th>3</th>\n",
              "      <td>6/1/2012</td>\n",
              "      <td>328.34</td>\n",
              "      <td>328.77</td>\n",
              "      <td>323.68</td>\n",
              "      <td>648.24</td>\n",
              "      <td>5405900.0</td>\n",
              "    </tr>\n",
              "    <tr>\n",
              "      <th>4</th>\n",
              "      <td>9/1/2012</td>\n",
              "      <td>322.04</td>\n",
              "      <td>322.29</td>\n",
              "      <td>309.46</td>\n",
              "      <td>620.76</td>\n",
              "      <td>11688800.0</td>\n",
              "    </tr>\n",
              "    <tr>\n",
              "      <th>...</th>\n",
              "      <td>...</td>\n",
              "      <td>...</td>\n",
              "      <td>...</td>\n",
              "      <td>...</td>\n",
              "      <td>...</td>\n",
              "      <td>...</td>\n",
              "    </tr>\n",
              "    <tr>\n",
              "      <th>1253</th>\n",
              "      <td>12/23/2016</td>\n",
              "      <td>790.90</td>\n",
              "      <td>792.74</td>\n",
              "      <td>787.28</td>\n",
              "      <td>789.91</td>\n",
              "      <td>623400.0</td>\n",
              "    </tr>\n",
              "    <tr>\n",
              "      <th>1254</th>\n",
              "      <td>12/27/2016</td>\n",
              "      <td>790.68</td>\n",
              "      <td>797.86</td>\n",
              "      <td>787.66</td>\n",
              "      <td>791.55</td>\n",
              "      <td>789100.0</td>\n",
              "    </tr>\n",
              "    <tr>\n",
              "      <th>1255</th>\n",
              "      <td>12/28/2016</td>\n",
              "      <td>793.70</td>\n",
              "      <td>794.23</td>\n",
              "      <td>783.20</td>\n",
              "      <td>785.05</td>\n",
              "      <td>1153800.0</td>\n",
              "    </tr>\n",
              "    <tr>\n",
              "      <th>1256</th>\n",
              "      <td>12/29/2016</td>\n",
              "      <td>783.33</td>\n",
              "      <td>785.93</td>\n",
              "      <td>778.92</td>\n",
              "      <td>782.79</td>\n",
              "      <td>744300.0</td>\n",
              "    </tr>\n",
              "    <tr>\n",
              "      <th>1257</th>\n",
              "      <td>12/30/2016</td>\n",
              "      <td>782.75</td>\n",
              "      <td>782.78</td>\n",
              "      <td>770.41</td>\n",
              "      <td>771.82</td>\n",
              "      <td>1770000.0</td>\n",
              "    </tr>\n",
              "  </tbody>\n",
              "</table>\n",
              "<p>1258 rows × 6 columns</p>\n",
              "</div>"
            ],
            "text/plain": [
              "            Date    Open    High     Low   Close      Volume\n",
              "0       3/1/2012  325.25  332.83  324.97  663.59   7380500.0\n",
              "1       4/1/2012  331.27  333.87  329.08  666.45   5749400.0\n",
              "2       5/1/2012  329.83  330.75  326.89  657.21   6590300.0\n",
              "3       6/1/2012  328.34  328.77  323.68  648.24   5405900.0\n",
              "4       9/1/2012  322.04  322.29  309.46  620.76  11688800.0\n",
              "...          ...     ...     ...     ...     ...         ...\n",
              "1253  12/23/2016  790.90  792.74  787.28  789.91    623400.0\n",
              "1254  12/27/2016  790.68  797.86  787.66  791.55    789100.0\n",
              "1255  12/28/2016  793.70  794.23  783.20  785.05   1153800.0\n",
              "1256  12/29/2016  783.33  785.93  778.92  782.79    744300.0\n",
              "1257  12/30/2016  782.75  782.78  770.41  771.82   1770000.0\n",
              "\n",
              "[1258 rows x 6 columns]"
            ]
          },
          "metadata": {},
          "execution_count": 75
        }
      ]
    },
    {
      "cell_type": "code",
      "metadata": {
        "colab": {
          "base_uri": "https://localhost:8080/"
        },
        "id": "pOephZYxgVjf",
        "outputId": "8657d758-ad1f-45ee-fdfe-ebc35ad13e7b"
      },
      "source": [
        "train_data.shape"
      ],
      "execution_count": null,
      "outputs": [
        {
          "output_type": "execute_result",
          "data": {
            "text/plain": [
              "(1258, 6)"
            ]
          },
          "metadata": {},
          "execution_count": 76
        }
      ]
    },
    {
      "cell_type": "code",
      "metadata": {
        "colab": {
          "base_uri": "https://localhost:8080/"
        },
        "id": "3fUu9XG2GLhs",
        "outputId": "503b738a-318f-4c2e-9345-e0ad659048ff"
      },
      "source": [
        "train_data.isnull().sum()"
      ],
      "execution_count": null,
      "outputs": [
        {
          "output_type": "execute_result",
          "data": {
            "text/plain": [
              "Date      0\n",
              "Open      0\n",
              "High      0\n",
              "Low       0\n",
              "Close     0\n",
              "Volume    0\n",
              "dtype: int64"
            ]
          },
          "metadata": {},
          "execution_count": 77
        }
      ]
    },
    {
      "cell_type": "code",
      "metadata": {
        "colab": {
          "base_uri": "https://localhost:8080/"
        },
        "id": "DEySYjKhh8OB",
        "outputId": "d376fe8e-cde5-4b65-a19f-0b28f0aa7ae7"
      },
      "source": [
        "train_data.dtypes"
      ],
      "execution_count": null,
      "outputs": [
        {
          "output_type": "execute_result",
          "data": {
            "text/plain": [
              "Date       object\n",
              "Open      float64\n",
              "High      float64\n",
              "Low       float64\n",
              "Close     float64\n",
              "Volume    float64\n",
              "dtype: object"
            ]
          },
          "metadata": {},
          "execution_count": 78
        }
      ]
    },
    {
      "cell_type": "code",
      "metadata": {
        "colab": {
          "base_uri": "https://localhost:8080/"
        },
        "id": "tgQJWwj6gfL2",
        "outputId": "b0f55f00-8cba-4d01-8899-70567f7e498e"
      },
      "source": [
        "X_train = train_data[['Open','High','Low','Volume']].values\n",
        "print(X_train)"
      ],
      "execution_count": null,
      "outputs": [
        {
          "output_type": "stream",
          "name": "stdout",
          "text": [
            "[[3.2525e+02 3.3283e+02 3.2497e+02 7.3805e+06]\n",
            " [3.3127e+02 3.3387e+02 3.2908e+02 5.7494e+06]\n",
            " [3.2983e+02 3.3075e+02 3.2689e+02 6.5903e+06]\n",
            " ...\n",
            " [7.9370e+02 7.9423e+02 7.8320e+02 1.1538e+06]\n",
            " [7.8333e+02 7.8593e+02 7.7892e+02 7.4430e+05]\n",
            " [7.8275e+02 7.8278e+02 7.7041e+02 1.7700e+06]]\n"
          ]
        }
      ]
    },
    {
      "cell_type": "code",
      "metadata": {
        "colab": {
          "base_uri": "https://localhost:8080/"
        },
        "id": "_9u34E9Qgxsh",
        "outputId": "4a2bf3e1-8b0e-48f8-8fd7-e8fb5d868480"
      },
      "source": [
        "y_train = train_data.iloc[:,4:5].values\n",
        "print(y_train)"
      ],
      "execution_count": null,
      "outputs": [
        {
          "output_type": "stream",
          "name": "stdout",
          "text": [
            "[[663.59]\n",
            " [666.45]\n",
            " [657.21]\n",
            " ...\n",
            " [785.05]\n",
            " [782.79]\n",
            " [771.82]]\n"
          ]
        }
      ]
    },
    {
      "cell_type": "code",
      "metadata": {
        "colab": {
          "base_uri": "https://localhost:8080/"
        },
        "id": "GdJJ1x9LhHXH",
        "outputId": "878484d9-dcf1-4ae0-990a-05799dcf71bf"
      },
      "source": [
        "print(X_train.shape)\n",
        "print(y_train.shape)"
      ],
      "execution_count": null,
      "outputs": [
        {
          "output_type": "stream",
          "name": "stdout",
          "text": [
            "(1258, 4)\n",
            "(1258, 1)\n"
          ]
        }
      ]
    },
    {
      "cell_type": "code",
      "metadata": {
        "colab": {
          "base_uri": "https://localhost:8080/"
        },
        "id": "PWI8sA0bhPOc",
        "outputId": "e7109393-986e-4b29-e1aa-35caf6260c06"
      },
      "source": [
        "from sklearn.linear_model import LinearRegression\n",
        "regressor = LinearRegression()\n",
        "regressor.fit(X_train,y_train)"
      ],
      "execution_count": null,
      "outputs": [
        {
          "output_type": "execute_result",
          "data": {
            "text/plain": [
              "LinearRegression(copy_X=True, fit_intercept=True, n_jobs=None, normalize=False)"
            ]
          },
          "metadata": {},
          "execution_count": 82
        }
      ]
    },
    {
      "cell_type": "code",
      "metadata": {
        "colab": {
          "base_uri": "https://localhost:8080/"
        },
        "id": "hkrBK68wTNV-",
        "outputId": "2d0baa9d-74ad-4f61-e253-ec25f73f3a24"
      },
      "source": [
        "test_data\n",
        "X_test = test_data[['Open','High','Low','Volume']].values\n",
        "y_test = test_data.iloc[:,4:5].values\n",
        "y_test"
      ],
      "execution_count": null,
      "outputs": [
        {
          "output_type": "execute_result",
          "data": {
            "text/plain": [
              "array([[786.14],\n",
              "       [786.9 ],\n",
              "       [794.02],\n",
              "       [806.15],\n",
              "       [806.65],\n",
              "       [804.79],\n",
              "       [807.91],\n",
              "       [806.36],\n",
              "       [807.88],\n",
              "       [804.61],\n",
              "       [806.07],\n",
              "       [802.17],\n",
              "       [805.02],\n",
              "       [819.31],\n",
              "       [823.87],\n",
              "       [835.67],\n",
              "       [832.15],\n",
              "       [823.31],\n",
              "       [802.32],\n",
              "       [796.79]])"
            ]
          },
          "metadata": {},
          "execution_count": 83
        }
      ]
    },
    {
      "cell_type": "code",
      "metadata": {
        "colab": {
          "base_uri": "https://localhost:8080/"
        },
        "id": "HXgKUD4QTo1P",
        "outputId": "a09def81-9e2b-4e22-d5c6-290736ad7792"
      },
      "source": [
        "y_pred = regressor.predict(X_test)\n",
        "y_pred"
      ],
      "execution_count": null,
      "outputs": [
        {
          "output_type": "execute_result",
          "data": {
            "text/plain": [
              "array([[754.40588319],\n",
              "       [798.71235287],\n",
              "       [795.07824942],\n",
              "       [743.57927405],\n",
              "       [829.4820455 ],\n",
              "       [842.971888  ],\n",
              "       [824.66560288],\n",
              "       [819.38288804],\n",
              "       [853.16453882],\n",
              "       [836.00568628],\n",
              "       [850.32137505],\n",
              "       [809.50764   ],\n",
              "       [865.09686812],\n",
              "       [747.53742228],\n",
              "       [836.37799812],\n",
              "       [813.03267399],\n",
              "       [868.59517571],\n",
              "       [750.37950626],\n",
              "       [807.90366731],\n",
              "       [817.04218114]])"
            ]
          },
          "metadata": {},
          "execution_count": 84
        }
      ]
    },
    {
      "cell_type": "code",
      "metadata": {
        "colab": {
          "base_uri": "https://localhost:8080/"
        },
        "id": "Qh0vfiFbT_xW",
        "outputId": "5a967777-3077-4d3a-de77-611ff46714c4"
      },
      "source": [
        "from sklearn.metrics import mean_squared_error\n",
        "from math import sqrt\n",
        "rms_error = sqrt(mean_squared_error(y_test,y_pred))\n",
        "print(f\"The Root Mean Squared Error is : {rms_error} \")"
      ],
      "execution_count": null,
      "outputs": [
        {
          "output_type": "stream",
          "name": "stdout",
          "text": [
            "The Root Mean Squared Error is : 38.11730407638581 \n"
          ]
        }
      ]
    }
  ]
}