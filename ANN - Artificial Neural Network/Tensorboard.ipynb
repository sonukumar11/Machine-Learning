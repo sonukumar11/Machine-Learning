{
 "cells": [
  {
   "cell_type": "code",
   "execution_count": 1,
   "metadata": {},
   "outputs": [],
   "source": [
    "import pandas as pd\n",
    "import numpy as np"
   ]
  },
  {
   "cell_type": "code",
   "execution_count": 2,
   "metadata": {},
   "outputs": [],
   "source": [
    "df = pd.read_csv('cancer_classification.csv')"
   ]
  },
  {
   "cell_type": "code",
   "execution_count": 3,
   "metadata": {},
   "outputs": [],
   "source": [
    "X = df.drop('benign_0__mal_1',axis=1).values\n",
    "y = df['benign_0__mal_1'].values"
   ]
  },
  {
   "cell_type": "code",
   "execution_count": 4,
   "metadata": {},
   "outputs": [],
   "source": [
    "from sklearn.model_selection import train_test_split"
   ]
  },
  {
   "cell_type": "code",
   "execution_count": 5,
   "metadata": {},
   "outputs": [],
   "source": [
    "X_train, X_test, y_train, y_test = train_test_split(X,y,test_size=0.25,random_state=101)"
   ]
  },
  {
   "cell_type": "code",
   "execution_count": 6,
   "metadata": {},
   "outputs": [],
   "source": [
    "from sklearn.preprocessing import MinMaxScaler"
   ]
  },
  {
   "cell_type": "code",
   "execution_count": 7,
   "metadata": {},
   "outputs": [],
   "source": [
    "scaler = MinMaxScaler()"
   ]
  },
  {
   "cell_type": "code",
   "execution_count": 8,
   "metadata": {},
   "outputs": [
    {
     "data": {
      "text/plain": [
       "MinMaxScaler()"
      ]
     },
     "execution_count": 8,
     "metadata": {},
     "output_type": "execute_result"
    }
   ],
   "source": [
    "scaler.fit(X_train)"
   ]
  },
  {
   "cell_type": "code",
   "execution_count": 9,
   "metadata": {},
   "outputs": [],
   "source": [
    "X_train = scaler.transform(X_train)\n",
    "X_test = scaler.transform(X_test)"
   ]
  },
  {
   "cell_type": "code",
   "execution_count": 10,
   "metadata": {},
   "outputs": [],
   "source": [
    "import tensorflow as tf\n",
    "from tensorflow.keras.models import Sequential\n",
    "from tensorflow.keras.layers import Dense, Activation,Dropout"
   ]
  },
  {
   "cell_type": "code",
   "execution_count": 11,
   "metadata": {},
   "outputs": [],
   "source": [
    "from tensorflow.keras.callbacks import EarlyStopping,TensorBoard"
   ]
  },
  {
   "cell_type": "code",
   "execution_count": 12,
   "metadata": {},
   "outputs": [],
   "source": [
    "early_stop = EarlyStopping(monitor='val_loss', mode='min', verbose=1, patience=25)"
   ]
  },
  {
   "cell_type": "code",
   "execution_count": 13,
   "metadata": {},
   "outputs": [
    {
     "data": {
      "text/plain": [
       "'C:\\\\Users\\\\Sonu Kumar\\\\Desktop\\\\ML'"
      ]
     },
     "execution_count": 13,
     "metadata": {},
     "output_type": "execute_result"
    }
   ],
   "source": [
    "pwd"
   ]
  },
  {
   "cell_type": "markdown",
   "metadata": {},
   "source": [
    "## Creating the Tensorboard Callback\n",
    "\n",
    "TensorBoard is a visualization tool provided with TensorFlow.\n",
    "\n",
    "This callback logs events for TensorBoard, including:\n",
    "* Metrics summary plots\n",
    "* Training graph visualization\n",
    "* Activation histograms\n",
    "* Sampled profiling\n",
    "\n",
    "If you have installed TensorFlow with pip, you should be able\n",
    "to launch TensorBoard from the command line:\n",
    "\n",
    "```sh\n",
    "tensorboard --logdir=path_to_your_logs\n",
    "```\n",
    "\n",
    "You can find more information about TensorBoard\n",
    "[here](https://www.tensorflow.org/tensorboard/).\n",
    "\n",
    "    Arguments:\n",
    "        log_dir: the path of the directory where to save the log files to be\n",
    "          parsed by TensorBoard.\n",
    "        histogram_freq: frequency (in epochs) at which to compute activation and\n",
    "          weight histograms for the layers of the model. If set to 0, histograms\n",
    "          won't be computed. Validation data (or split) must be specified for\n",
    "          histogram visualizations.\n",
    "        write_graph: whether to visualize the graph in TensorBoard. The log file\n",
    "          can become quite large when write_graph is set to True.\n",
    "        write_images: whether to write model weights to visualize as image in\n",
    "          TensorBoard.\n",
    "        update_freq: `'batch'` or `'epoch'` or integer. When using `'batch'`,\n",
    "          writes the losses and metrics to TensorBoard after each batch. The same\n",
    "          applies for `'epoch'`. If using an integer, let's say `1000`, the\n",
    "          callback will write the metrics and losses to TensorBoard every 1000\n",
    "          samples. Note that writing too frequently to TensorBoard can slow down\n",
    "          your training.\n",
    "        profile_batch: Profile the batch to sample compute characteristics. By\n",
    "          default, it will profile the second batch. Set profile_batch=0 to\n",
    "          disable profiling. Must run in TensorFlow eager mode.\n",
    "        embeddings_freq: frequency (in epochs) at which embedding layers will\n",
    "          be visualized. If set to 0, embeddings won't be visualized.\n",
    "       "
   ]
  },
  {
   "cell_type": "code",
   "execution_count": 14,
   "metadata": {},
   "outputs": [],
   "source": [
    "from datetime import datetime"
   ]
  },
  {
   "cell_type": "code",
   "execution_count": 15,
   "metadata": {},
   "outputs": [
    {
     "data": {
      "text/plain": [
       "'2021-10-30--1717'"
      ]
     },
     "execution_count": 15,
     "metadata": {},
     "output_type": "execute_result"
    }
   ],
   "source": [
    "datetime.now().strftime(\"%Y-%m-%d--%H%M\")"
   ]
  },
  {
   "cell_type": "code",
   "execution_count": 16,
   "metadata": {},
   "outputs": [],
   "source": [
    "# WINDOWS: Use \"logs\\\\fit\"\n",
    "# MACOS/LINUX: Use \"logs\\fit\"\n",
    "\n",
    "log_directory = 'logs\\\\fit'\n",
    "\n",
    "# OPTIONAL: ADD A TIMESTAMP FOR UNIQUE FOLDER\n",
    "# timestamp = datetime.now().strftime(\"%Y-%m-%d--%H%M\")\n",
    "# log_directory = log_directory + '\\\\' + timestamp\n",
    "\n",
    "\n",
    "board = TensorBoard(log_dir=log_directory,histogram_freq=1,\n",
    "    write_graph=True,\n",
    "    write_images=True,\n",
    "    update_freq='epoch',\n",
    "    profile_batch=2,\n",
    "    embeddings_freq=1)"
   ]
  },
  {
   "cell_type": "markdown",
   "metadata": {},
   "source": [
    "Now create the model layers:"
   ]
  },
  {
   "cell_type": "code",
   "execution_count": 17,
   "metadata": {},
   "outputs": [],
   "source": [
    "model = Sequential()\n",
    "model.add(Dense(units=30,activation='relu'))\n",
    "model.add(Dropout(0.5))\n",
    "model.add(Dense(units=15,activation='relu'))\n",
    "model.add(Dropout(0.5))\n",
    "model.add(Dense(units=1,activation='sigmoid'))\n",
    "model.compile(loss='binary_crossentropy', optimizer='adam')"
   ]
  },
  {
   "cell_type": "markdown",
   "metadata": {},
   "source": [
    "## Train the Model"
   ]
  },
  {
   "cell_type": "code",
   "execution_count": 18,
   "metadata": {},
   "outputs": [
    {
     "name": "stdout",
     "output_type": "stream",
     "text": [
      "Epoch 1/600\n",
      "14/14 [==============================] - 1s 39ms/step - loss: 0.6997 - val_loss: 0.6840\n",
      "Epoch 2/600\n",
      "14/14 [==============================] - 0s 6ms/step - loss: 0.6895 - val_loss: 0.6663\n",
      "Epoch 3/600\n",
      "14/14 [==============================] - 0s 6ms/step - loss: 0.6673 - val_loss: 0.6482\n",
      "Epoch 4/600\n",
      "14/14 [==============================] - 0s 8ms/step - loss: 0.6350 - val_loss: 0.6240\n",
      "Epoch 5/600\n",
      "14/14 [==============================] - 0s 6ms/step - loss: 0.6257 - val_loss: 0.5900\n",
      "Epoch 6/600\n",
      "14/14 [==============================] - 0s 7ms/step - loss: 0.5925 - val_loss: 0.5572\n",
      "Epoch 7/600\n",
      "14/14 [==============================] - 0s 6ms/step - loss: 0.5852 - val_loss: 0.5271\n",
      "Epoch 8/600\n",
      "14/14 [==============================] - 0s 7ms/step - loss: 0.5720 - val_loss: 0.5008\n",
      "Epoch 9/600\n",
      "14/14 [==============================] - 0s 13ms/step - loss: 0.5203 - val_loss: 0.4723\n",
      "Epoch 10/600\n",
      "14/14 [==============================] - 0s 6ms/step - loss: 0.5305 - val_loss: 0.4447\n",
      "Epoch 11/600\n",
      "14/14 [==============================] - 0s 8ms/step - loss: 0.5053 - val_loss: 0.4163\n",
      "Epoch 12/600\n",
      "14/14 [==============================] - 0s 11ms/step - loss: 0.4651 - val_loss: 0.3902\n",
      "Epoch 13/600\n",
      "14/14 [==============================] - 0s 12ms/step - loss: 0.4549 - val_loss: 0.3589\n",
      "Epoch 14/600\n",
      "14/14 [==============================] - 0s 7ms/step - loss: 0.4316 - val_loss: 0.3350\n",
      "Epoch 15/600\n",
      "14/14 [==============================] - 0s 7ms/step - loss: 0.4110 - val_loss: 0.3179\n",
      "Epoch 16/600\n",
      "14/14 [==============================] - 0s 5ms/step - loss: 0.3971 - val_loss: 0.2992\n",
      "Epoch 17/600\n",
      "14/14 [==============================] - 0s 6ms/step - loss: 0.3631 - val_loss: 0.2765\n",
      "Epoch 18/600\n",
      "14/14 [==============================] - 0s 7ms/step - loss: 0.3460 - val_loss: 0.2560\n",
      "Epoch 19/600\n",
      "14/14 [==============================] - 0s 6ms/step - loss: 0.3720 - val_loss: 0.2485\n",
      "Epoch 20/600\n",
      "14/14 [==============================] - 0s 6ms/step - loss: 0.3570 - val_loss: 0.2365\n",
      "Epoch 21/600\n",
      "14/14 [==============================] - 0s 6ms/step - loss: 0.3297 - val_loss: 0.2207\n",
      "Epoch 22/600\n",
      "14/14 [==============================] - 0s 6ms/step - loss: 0.3145 - val_loss: 0.2131\n",
      "Epoch 23/600\n",
      "14/14 [==============================] - 0s 7ms/step - loss: 0.2999 - val_loss: 0.2071\n",
      "Epoch 24/600\n",
      "14/14 [==============================] - 0s 5ms/step - loss: 0.3240 - val_loss: 0.1955\n",
      "Epoch 25/600\n",
      "14/14 [==============================] - 0s 6ms/step - loss: 0.2989 - val_loss: 0.1858\n",
      "Epoch 26/600\n",
      "14/14 [==============================] - 0s 7ms/step - loss: 0.2683 - val_loss: 0.1764\n",
      "Epoch 27/600\n",
      "14/14 [==============================] - 0s 8ms/step - loss: 0.2827 - val_loss: 0.1748\n",
      "Epoch 28/600\n",
      "14/14 [==============================] - 0s 6ms/step - loss: 0.2889 - val_loss: 0.1723\n",
      "Epoch 29/600\n",
      "14/14 [==============================] - 0s 8ms/step - loss: 0.2681 - val_loss: 0.1601\n",
      "Epoch 30/600\n",
      "14/14 [==============================] - 0s 5ms/step - loss: 0.2398 - val_loss: 0.1508\n",
      "Epoch 31/600\n",
      "14/14 [==============================] - 0s 6ms/step - loss: 0.2530 - val_loss: 0.1463\n",
      "Epoch 32/600\n",
      "14/14 [==============================] - 0s 7ms/step - loss: 0.2382 - val_loss: 0.1470\n",
      "Epoch 33/600\n",
      "14/14 [==============================] - 0s 7ms/step - loss: 0.2459 - val_loss: 0.1417\n",
      "Epoch 34/600\n",
      "14/14 [==============================] - 0s 6ms/step - loss: 0.2260 - val_loss: 0.1353\n",
      "Epoch 35/600\n",
      "14/14 [==============================] - 0s 7ms/step - loss: 0.2120 - val_loss: 0.1245\n",
      "Epoch 36/600\n",
      "14/14 [==============================] - 0s 7ms/step - loss: 0.2314 - val_loss: 0.1257\n",
      "Epoch 37/600\n",
      "14/14 [==============================] - 0s 11ms/step - loss: 0.2253 - val_loss: 0.1239\n",
      "Epoch 38/600\n",
      "14/14 [==============================] - 0s 7ms/step - loss: 0.2304 - val_loss: 0.1189\n",
      "Epoch 39/600\n",
      "14/14 [==============================] - 0s 6ms/step - loss: 0.2151 - val_loss: 0.1190\n",
      "Epoch 40/600\n",
      "14/14 [==============================] - 0s 7ms/step - loss: 0.1862 - val_loss: 0.1161\n",
      "Epoch 41/600\n",
      "14/14 [==============================] - 0s 7ms/step - loss: 0.1935 - val_loss: 0.1036\n",
      "Epoch 42/600\n",
      "14/14 [==============================] - 0s 6ms/step - loss: 0.1894 - val_loss: 0.1034\n",
      "Epoch 43/600\n",
      "14/14 [==============================] - 0s 9ms/step - loss: 0.1825 - val_loss: 0.1015\n",
      "Epoch 44/600\n",
      "14/14 [==============================] - 0s 8ms/step - loss: 0.2013 - val_loss: 0.1047\n",
      "Epoch 45/600\n",
      "14/14 [==============================] - 0s 12ms/step - loss: 0.1825 - val_loss: 0.0997\n",
      "Epoch 46/600\n",
      "14/14 [==============================] - 0s 12ms/step - loss: 0.1619 - val_loss: 0.0975\n",
      "Epoch 47/600\n",
      "14/14 [==============================] - 0s 7ms/step - loss: 0.1811 - val_loss: 0.0949\n",
      "Epoch 48/600\n",
      "14/14 [==============================] - 0s 7ms/step - loss: 0.1622 - val_loss: 0.0929\n",
      "Epoch 49/600\n",
      "14/14 [==============================] - 0s 7ms/step - loss: 0.1532 - val_loss: 0.0895\n",
      "Epoch 50/600\n",
      "14/14 [==============================] - 0s 6ms/step - loss: 0.1754 - val_loss: 0.0856\n",
      "Epoch 51/600\n",
      "14/14 [==============================] - 0s 6ms/step - loss: 0.1814 - val_loss: 0.0910\n",
      "Epoch 52/600\n",
      "14/14 [==============================] - 0s 6ms/step - loss: 0.1618 - val_loss: 0.0913\n",
      "Epoch 53/600\n",
      "14/14 [==============================] - 0s 7ms/step - loss: 0.1486 - val_loss: 0.0878\n",
      "Epoch 54/600\n",
      "14/14 [==============================] - 0s 8ms/step - loss: 0.1580 - val_loss: 0.0894\n",
      "Epoch 55/600\n",
      "14/14 [==============================] - 0s 5ms/step - loss: 0.1565 - val_loss: 0.0858\n",
      "Epoch 56/600\n",
      "14/14 [==============================] - 0s 6ms/step - loss: 0.1587 - val_loss: 0.0909\n",
      "Epoch 57/600\n",
      "14/14 [==============================] - 0s 8ms/step - loss: 0.1523 - val_loss: 0.0880\n",
      "Epoch 58/600\n",
      "14/14 [==============================] - 0s 12ms/step - loss: 0.1246 - val_loss: 0.0823\n",
      "Epoch 59/600\n",
      "14/14 [==============================] - 0s 12ms/step - loss: 0.1441 - val_loss: 0.0795\n",
      "Epoch 60/600\n",
      "14/14 [==============================] - 0s 6ms/step - loss: 0.1250 - val_loss: 0.0809\n",
      "Epoch 61/600\n",
      "14/14 [==============================] - 0s 5ms/step - loss: 0.1297 - val_loss: 0.0855\n",
      "Epoch 62/600\n",
      "14/14 [==============================] - 0s 11ms/step - loss: 0.1365 - val_loss: 0.0803\n",
      "Epoch 63/600\n",
      "14/14 [==============================] - 0s 13ms/step - loss: 0.1380 - val_loss: 0.0755\n",
      "Epoch 64/600\n",
      "14/14 [==============================] - 0s 12ms/step - loss: 0.1303 - val_loss: 0.0807\n",
      "Epoch 65/600\n",
      "14/14 [==============================] - 0s 10ms/step - loss: 0.1187 - val_loss: 0.0770\n",
      "Epoch 66/600\n",
      "14/14 [==============================] - 0s 5ms/step - loss: 0.1449 - val_loss: 0.0761\n",
      "Epoch 67/600\n",
      "14/14 [==============================] - 0s 8ms/step - loss: 0.1184 - val_loss: 0.0767\n",
      "Epoch 68/600\n",
      "14/14 [==============================] - 0s 12ms/step - loss: 0.1113 - val_loss: 0.0737\n",
      "Epoch 69/600\n",
      "14/14 [==============================] - 0s 10ms/step - loss: 0.1119 - val_loss: 0.0779\n",
      "Epoch 70/600\n",
      "14/14 [==============================] - 0s 11ms/step - loss: 0.1267 - val_loss: 0.0880\n",
      "Epoch 71/600\n",
      "14/14 [==============================] - 0s 6ms/step - loss: 0.1403 - val_loss: 0.0752\n",
      "Epoch 72/600\n",
      "14/14 [==============================] - 0s 6ms/step - loss: 0.1171 - val_loss: 0.0786\n",
      "Epoch 73/600\n",
      "14/14 [==============================] - 0s 6ms/step - loss: 0.1161 - val_loss: 0.0862\n",
      "Epoch 74/600\n",
      "14/14 [==============================] - 0s 5ms/step - loss: 0.1284 - val_loss: 0.0755\n",
      "Epoch 75/600\n",
      "14/14 [==============================] - 0s 5ms/step - loss: 0.1264 - val_loss: 0.0793\n",
      "Epoch 76/600\n",
      "14/14 [==============================] - 0s 8ms/step - loss: 0.1273 - val_loss: 0.0733\n",
      "Epoch 77/600\n",
      "14/14 [==============================] - 0s 5ms/step - loss: 0.1081 - val_loss: 0.0810\n",
      "Epoch 78/600\n",
      "14/14 [==============================] - 0s 13ms/step - loss: 0.1322 - val_loss: 0.0700\n",
      "Epoch 79/600\n",
      "14/14 [==============================] - 0s 10ms/step - loss: 0.1031 - val_loss: 0.0716\n",
      "Epoch 80/600\n",
      "14/14 [==============================] - 0s 6ms/step - loss: 0.1146 - val_loss: 0.0713\n",
      "Epoch 81/600\n",
      "14/14 [==============================] - 0s 6ms/step - loss: 0.1213 - val_loss: 0.0712\n",
      "Epoch 82/600\n",
      "14/14 [==============================] - 0s 6ms/step - loss: 0.1082 - val_loss: 0.0743\n"
     ]
    },
    {
     "name": "stdout",
     "output_type": "stream",
     "text": [
      "Epoch 83/600\n",
      "14/14 [==============================] - 0s 8ms/step - loss: 0.0899 - val_loss: 0.0820\n",
      "Epoch 84/600\n",
      "14/14 [==============================] - 0s 6ms/step - loss: 0.1057 - val_loss: 0.0747\n",
      "Epoch 85/600\n",
      "14/14 [==============================] - 0s 5ms/step - loss: 0.0982 - val_loss: 0.0723\n",
      "Epoch 86/600\n",
      "14/14 [==============================] - 0s 6ms/step - loss: 0.1018 - val_loss: 0.0738\n",
      "Epoch 87/600\n",
      "14/14 [==============================] - 0s 6ms/step - loss: 0.1123 - val_loss: 0.0711\n",
      "Epoch 88/600\n",
      "14/14 [==============================] - 0s 6ms/step - loss: 0.0838 - val_loss: 0.0752\n",
      "Epoch 89/600\n",
      "14/14 [==============================] - 0s 6ms/step - loss: 0.1124 - val_loss: 0.0768\n",
      "Epoch 90/600\n",
      "14/14 [==============================] - 0s 7ms/step - loss: 0.1113 - val_loss: 0.0731\n",
      "Epoch 91/600\n",
      "14/14 [==============================] - 0s 5ms/step - loss: 0.1127 - val_loss: 0.0773\n",
      "Epoch 92/600\n",
      "14/14 [==============================] - 0s 6ms/step - loss: 0.1024 - val_loss: 0.0751\n",
      "Epoch 93/600\n",
      "14/14 [==============================] - 0s 6ms/step - loss: 0.1106 - val_loss: 0.0750\n",
      "Epoch 94/600\n",
      "14/14 [==============================] - 0s 6ms/step - loss: 0.1068 - val_loss: 0.0725\n",
      "Epoch 95/600\n",
      "14/14 [==============================] - 0s 6ms/step - loss: 0.1196 - val_loss: 0.0756\n",
      "Epoch 96/600\n",
      "14/14 [==============================] - 0s 6ms/step - loss: 0.1129 - val_loss: 0.0936\n",
      "Epoch 97/600\n",
      "14/14 [==============================] - 0s 6ms/step - loss: 0.0985 - val_loss: 0.0763\n",
      "Epoch 98/600\n",
      "14/14 [==============================] - 0s 6ms/step - loss: 0.0926 - val_loss: 0.0745\n",
      "Epoch 99/600\n",
      "14/14 [==============================] - 0s 6ms/step - loss: 0.1191 - val_loss: 0.0806\n",
      "Epoch 100/600\n",
      "14/14 [==============================] - 0s 8ms/step - loss: 0.0995 - val_loss: 0.0849\n",
      "Epoch 101/600\n",
      "14/14 [==============================] - 0s 8ms/step - loss: 0.1050 - val_loss: 0.0782\n",
      "Epoch 102/600\n",
      "14/14 [==============================] - 0s 6ms/step - loss: 0.0905 - val_loss: 0.0769\n",
      "Epoch 103/600\n",
      "14/14 [==============================] - 0s 6ms/step - loss: 0.0962 - val_loss: 0.0694\n",
      "Epoch 104/600\n",
      "14/14 [==============================] - 0s 5ms/step - loss: 0.1020 - val_loss: 0.0696\n",
      "Epoch 105/600\n",
      "14/14 [==============================] - 0s 10ms/step - loss: 0.1065 - val_loss: 0.0759\n",
      "Epoch 106/600\n",
      "14/14 [==============================] - 0s 6ms/step - loss: 0.0805 - val_loss: 0.0777\n",
      "Epoch 107/600\n",
      "14/14 [==============================] - 0s 11ms/step - loss: 0.0910 - val_loss: 0.0745\n",
      "Epoch 108/600\n",
      "14/14 [==============================] - 0s 10ms/step - loss: 0.1022 - val_loss: 0.0787\n",
      "Epoch 109/600\n",
      "14/14 [==============================] - 0s 6ms/step - loss: 0.1112 - val_loss: 0.0815\n",
      "Epoch 110/600\n",
      "14/14 [==============================] - 0s 6ms/step - loss: 0.0999 - val_loss: 0.0826\n",
      "Epoch 111/600\n",
      "14/14 [==============================] - 0s 6ms/step - loss: 0.1002 - val_loss: 0.0733\n",
      "Epoch 112/600\n",
      "14/14 [==============================] - 0s 6ms/step - loss: 0.0943 - val_loss: 0.0775\n",
      "Epoch 113/600\n",
      "14/14 [==============================] - 0s 8ms/step - loss: 0.0896 - val_loss: 0.0782\n",
      "Epoch 114/600\n",
      "14/14 [==============================] - 0s 6ms/step - loss: 0.0984 - val_loss: 0.0749\n",
      "Epoch 115/600\n",
      "14/14 [==============================] - 0s 8ms/step - loss: 0.0871 - val_loss: 0.0711\n",
      "Epoch 116/600\n",
      "14/14 [==============================] - 0s 6ms/step - loss: 0.1023 - val_loss: 0.0836\n",
      "Epoch 117/600\n",
      "14/14 [==============================] - 0s 6ms/step - loss: 0.0900 - val_loss: 0.0740\n",
      "Epoch 118/600\n",
      "14/14 [==============================] - 0s 5ms/step - loss: 0.0807 - val_loss: 0.0843\n",
      "Epoch 119/600\n",
      "14/14 [==============================] - 0s 5ms/step - loss: 0.0941 - val_loss: 0.0751\n",
      "Epoch 120/600\n",
      "14/14 [==============================] - 0s 6ms/step - loss: 0.0919 - val_loss: 0.0819\n",
      "Epoch 121/600\n",
      "14/14 [==============================] - 0s 6ms/step - loss: 0.0864 - val_loss: 0.0703\n",
      "Epoch 122/600\n",
      "14/14 [==============================] - 0s 8ms/step - loss: 0.0945 - val_loss: 0.0699\n",
      "Epoch 123/600\n",
      "14/14 [==============================] - 0s 6ms/step - loss: 0.1043 - val_loss: 0.0794\n",
      "Epoch 124/600\n",
      "14/14 [==============================] - 0s 6ms/step - loss: 0.0850 - val_loss: 0.0836\n",
      "Epoch 125/600\n",
      "14/14 [==============================] - 0s 8ms/step - loss: 0.0897 - val_loss: 0.0768\n",
      "Epoch 126/600\n",
      "14/14 [==============================] - 0s 6ms/step - loss: 0.0782 - val_loss: 0.0759\n",
      "Epoch 127/600\n",
      "14/14 [==============================] - 0s 6ms/step - loss: 0.0917 - val_loss: 0.0739\n",
      "Epoch 128/600\n",
      "14/14 [==============================] - 0s 6ms/step - loss: 0.0977 - val_loss: 0.0830\n",
      "Epoch 00128: early stopping\n"
     ]
    },
    {
     "data": {
      "text/plain": [
       "<keras.callbacks.History at 0x27863566220>"
      ]
     },
     "execution_count": 18,
     "metadata": {},
     "output_type": "execute_result"
    }
   ],
   "source": [
    "model.fit(x=X_train, \n",
    "          y=y_train, \n",
    "          epochs=600,\n",
    "          validation_data=(X_test, y_test), verbose=1,\n",
    "          callbacks=[early_stop,board]\n",
    "          )"
   ]
  },
  {
   "cell_type": "markdown",
   "metadata": {},
   "source": [
    "# Running Tensorboard\n"
   ]
  },
  {
   "cell_type": "markdown",
   "metadata": {},
   "source": [
    "## Running through the Command Line\n",
    "\n",
    "**Watch video to see how to run Tensorboard through a command line call.**"
   ]
  },
  {
   "cell_type": "markdown",
   "metadata": {},
   "source": [
    "Tensorboard will run locally in your browser at [http://localhost:6006/](http://localhost:6006/)\n"
   ]
  },
  {
   "cell_type": "code",
   "execution_count": 19,
   "metadata": {},
   "outputs": [
    {
     "name": "stdout",
     "output_type": "stream",
     "text": [
      "logs\\fit\n"
     ]
    }
   ],
   "source": [
    "print(log_directory)"
   ]
  },
  {
   "cell_type": "code",
   "execution_count": 20,
   "metadata": {},
   "outputs": [
    {
     "data": {
      "text/plain": [
       "'C:\\\\Users\\\\Sonu Kumar\\\\Desktop\\\\ML'"
      ]
     },
     "execution_count": 20,
     "metadata": {},
     "output_type": "execute_result"
    }
   ],
   "source": [
    "pwd"
   ]
  },
  {
   "cell_type": "markdown",
   "metadata": {},
   "source": [
    "### Use cd at your command line to change directory to the file path reported back by pwd or your current .py file location.\n",
    "### Then run this code at your command line or terminal"
   ]
  },
  {
   "cell_type": "code",
   "execution_count": 22,
   "metadata": {},
   "outputs": [],
   "source": [
    "# tensorboard --logdir logs\\fit "
   ]
  },
  {
   "cell_type": "code",
   "execution_count": null,
   "metadata": {},
   "outputs": [],
   "source": []
  }
 ],
 "metadata": {
  "kernelspec": {
   "display_name": "Python 3",
   "language": "python",
   "name": "python3"
  },
  "language_info": {
   "codemirror_mode": {
    "name": "ipython",
    "version": 3
   },
   "file_extension": ".py",
   "mimetype": "text/x-python",
   "name": "python",
   "nbconvert_exporter": "python",
   "pygments_lexer": "ipython3",
   "version": "3.8.3"
  }
 },
 "nbformat": 4,
 "nbformat_minor": 2
}
