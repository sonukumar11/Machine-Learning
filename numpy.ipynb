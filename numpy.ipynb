{
  "nbformat": 4,
  "nbformat_minor": 0,
  "metadata": {
    "colab": {
      "name": "numpy.ipynb",
      "provenance": []
    },
    "kernelspec": {
      "name": "python3",
      "display_name": "Python 3"
    },
    "language_info": {
      "name": "python"
    },
    "accelerator": "GPU"
  },
  "cells": [
    {
      "cell_type": "code",
      "metadata": {
        "id": "MsSH53O0lfeo"
      },
      "source": [
        "import numpy as np\n"
      ],
      "execution_count": 3,
      "outputs": []
    },
    {
      "cell_type": "code",
      "metadata": {
        "colab": {
          "base_uri": "https://localhost:8080/"
        },
        "id": "YzY5HYJXljvi",
        "outputId": "73e1d55e-56a4-463d-ddae-437b75196765"
      },
      "source": [
        "#creating a numpy array\n",
        "mylist = [1,2,3]\n",
        "np.array(mylist)"
      ],
      "execution_count": 4,
      "outputs": [
        {
          "output_type": "execute_result",
          "data": {
            "text/plain": [
              "array([1, 2, 3])"
            ]
          },
          "metadata": {},
          "execution_count": 4
        }
      ]
    },
    {
      "cell_type": "code",
      "metadata": {
        "colab": {
          "base_uri": "https://localhost:8080/"
        },
        "id": "m90GX4x9lt_D",
        "outputId": "6deeb28d-ce30-4766-cb8c-2c3b7b8f5714"
      },
      "source": [
        "nested_list = [[1,2,3],[4,5,6],[7,8,9]]\n",
        "np.array(nested_list)"
      ],
      "execution_count": 5,
      "outputs": [
        {
          "output_type": "execute_result",
          "data": {
            "text/plain": [
              "array([[1, 2, 3],\n",
              "       [4, 5, 6],\n",
              "       [7, 8, 9]])"
            ]
          },
          "metadata": {},
          "execution_count": 5
        }
      ]
    },
    {
      "cell_type": "code",
      "metadata": {
        "colab": {
          "base_uri": "https://localhost:8080/"
        },
        "id": "lbAldgbUmF7-",
        "outputId": "afc68de7-c52d-455d-ea16-4aa60a2b55a0"
      },
      "source": [
        "#stopping point is not included\n",
        "np.arange(0,10)"
      ],
      "execution_count": 6,
      "outputs": [
        {
          "output_type": "execute_result",
          "data": {
            "text/plain": [
              "array([0, 1, 2, 3, 4, 5, 6, 7, 8, 9])"
            ]
          },
          "metadata": {},
          "execution_count": 6
        }
      ]
    },
    {
      "cell_type": "code",
      "metadata": {
        "colab": {
          "base_uri": "https://localhost:8080/"
        },
        "id": "YhK-fvuLmN88",
        "outputId": "7d07885f-4d44-4aa4-fa81-0988412b1a0c"
      },
      "source": [
        "#np.arange() with step size\n",
        "#Here , 2 is the step size\n",
        "np.arange(0,11,2)"
      ],
      "execution_count": 7,
      "outputs": [
        {
          "output_type": "execute_result",
          "data": {
            "text/plain": [
              "array([ 0,  2,  4,  6,  8, 10])"
            ]
          },
          "metadata": {},
          "execution_count": 7
        }
      ]
    },
    {
      "cell_type": "code",
      "metadata": {
        "colab": {
          "base_uri": "https://localhost:8080/"
        },
        "id": "PCOcWWeRmWxg",
        "outputId": "9e5506e3-4b04-4f28-a9ba-46410952bd36"
      },
      "source": [
        "#creating a array of zeros\n",
        "#Here , 0. represents that the values are of floating point data type\n",
        "np.zeros(3)"
      ],
      "execution_count": 8,
      "outputs": [
        {
          "output_type": "execute_result",
          "data": {
            "text/plain": [
              "array([0., 0., 0.])"
            ]
          },
          "metadata": {},
          "execution_count": 8
        }
      ]
    },
    {
      "cell_type": "code",
      "metadata": {
        "colab": {
          "base_uri": "https://localhost:8080/"
        },
        "id": "aIhwlJ0RmsFo",
        "outputId": "882023f2-f628-4246-a43b-676297ef29de"
      },
      "source": [
        "#passing the shape to the np.zeros()\n",
        "np.zeros((4,4))"
      ],
      "execution_count": 9,
      "outputs": [
        {
          "output_type": "execute_result",
          "data": {
            "text/plain": [
              "array([[0., 0., 0., 0.],\n",
              "       [0., 0., 0., 0.],\n",
              "       [0., 0., 0., 0.],\n",
              "       [0., 0., 0., 0.]])"
            ]
          },
          "metadata": {},
          "execution_count": 9
        }
      ]
    },
    {
      "cell_type": "code",
      "metadata": {
        "colab": {
          "base_uri": "https://localhost:8080/"
        },
        "id": "tM0Skq6gm-2N",
        "outputId": "3ff11fa2-bc2c-4ee6-f571-af10570eea89"
      },
      "source": [
        "#creating an array of one\n",
        "np.ones(4)"
      ],
      "execution_count": 10,
      "outputs": [
        {
          "output_type": "execute_result",
          "data": {
            "text/plain": [
              "array([1., 1., 1., 1.])"
            ]
          },
          "metadata": {},
          "execution_count": 10
        }
      ]
    },
    {
      "cell_type": "code",
      "metadata": {
        "colab": {
          "base_uri": "https://localhost:8080/"
        },
        "id": "YShWop5vnCru",
        "outputId": "b5c85de1-af28-4cad-a2f2-13115c6e946d"
      },
      "source": [
        "#creating an array of size 10 X 10 and setting the datatype of the value as \"integer\" rather than deafult floating point\n",
        "np.ones((10,10),dtype=int)"
      ],
      "execution_count": 11,
      "outputs": [
        {
          "output_type": "execute_result",
          "data": {
            "text/plain": [
              "array([[1, 1, 1, 1, 1, 1, 1, 1, 1, 1],\n",
              "       [1, 1, 1, 1, 1, 1, 1, 1, 1, 1],\n",
              "       [1, 1, 1, 1, 1, 1, 1, 1, 1, 1],\n",
              "       [1, 1, 1, 1, 1, 1, 1, 1, 1, 1],\n",
              "       [1, 1, 1, 1, 1, 1, 1, 1, 1, 1],\n",
              "       [1, 1, 1, 1, 1, 1, 1, 1, 1, 1],\n",
              "       [1, 1, 1, 1, 1, 1, 1, 1, 1, 1],\n",
              "       [1, 1, 1, 1, 1, 1, 1, 1, 1, 1],\n",
              "       [1, 1, 1, 1, 1, 1, 1, 1, 1, 1],\n",
              "       [1, 1, 1, 1, 1, 1, 1, 1, 1, 1]])"
            ]
          },
          "metadata": {},
          "execution_count": 11
        }
      ]
    },
    {
      "cell_type": "code",
      "metadata": {
        "colab": {
          "base_uri": "https://localhost:8080/"
        },
        "id": "8jkTCE9dnTlu",
        "outputId": "2421cac7-ff01-4817-d6cd-b43c29ce6b90"
      },
      "source": [
        "np.linspace(0,10,20)"
      ],
      "execution_count": 12,
      "outputs": [
        {
          "output_type": "execute_result",
          "data": {
            "text/plain": [
              "array([ 0.        ,  0.52631579,  1.05263158,  1.57894737,  2.10526316,\n",
              "        2.63157895,  3.15789474,  3.68421053,  4.21052632,  4.73684211,\n",
              "        5.26315789,  5.78947368,  6.31578947,  6.84210526,  7.36842105,\n",
              "        7.89473684,  8.42105263,  8.94736842,  9.47368421, 10.        ])"
            ]
          },
          "metadata": {},
          "execution_count": 12
        }
      ]
    },
    {
      "cell_type": "code",
      "metadata": {
        "colab": {
          "base_uri": "https://localhost:8080/"
        },
        "id": "9uNwh09lnsTx",
        "outputId": "a5cb500e-98d6-4f2b-843a-2fb3f937f023"
      },
      "source": [
        "#creating an identity matrix\n",
        "#we are not passing shape as identity matrix will always be a square mmatrix\n",
        "np.eye(5)"
      ],
      "execution_count": 13,
      "outputs": [
        {
          "output_type": "execute_result",
          "data": {
            "text/plain": [
              "array([[1., 0., 0., 0., 0.],\n",
              "       [0., 1., 0., 0., 0.],\n",
              "       [0., 0., 1., 0., 0.],\n",
              "       [0., 0., 0., 1., 0.],\n",
              "       [0., 0., 0., 0., 1.]])"
            ]
          },
          "metadata": {},
          "execution_count": 13
        }
      ]
    },
    {
      "cell_type": "code",
      "metadata": {
        "colab": {
          "base_uri": "https://localhost:8080/"
        },
        "id": "go51IfZrn9Lv",
        "outputId": "094f83bc-8566-4282-cd7d-aa1eba197b4d"
      },
      "source": [
        "#creating an array of random numbers\n",
        "np.random.rand(2)"
      ],
      "execution_count": 14,
      "outputs": [
        {
          "output_type": "execute_result",
          "data": {
            "text/plain": [
              "array([0.20085795, 0.46796239])"
            ]
          },
          "metadata": {},
          "execution_count": 14
        }
      ]
    },
    {
      "cell_type": "code",
      "metadata": {
        "colab": {
          "base_uri": "https://localhost:8080/"
        },
        "id": "Glwfzd1aoQkM",
        "outputId": "790e30a2-903e-43ee-8cdc-275120b26ac0"
      },
      "source": [
        "np.random.rand(3,4)"
      ],
      "execution_count": 15,
      "outputs": [
        {
          "output_type": "execute_result",
          "data": {
            "text/plain": [
              "array([[0.80869819, 0.39256364, 0.7672798 , 0.87040927],\n",
              "       [0.63413667, 0.72249719, 0.41596801, 0.8095738 ],\n",
              "       [0.33936014, 0.31395994, 0.01189052, 0.74829466]])"
            ]
          },
          "metadata": {},
          "execution_count": 15
        }
      ]
    },
    {
      "cell_type": "code",
      "metadata": {
        "id": "kOkDW2b-obTR",
        "colab": {
          "base_uri": "https://localhost:8080/"
        },
        "outputId": "dff78ae9-29c4-4850-9fd0-5cb925448ab6"
      },
      "source": [
        "np.random.randn(3,4)"
      ],
      "execution_count": 16,
      "outputs": [
        {
          "output_type": "execute_result",
          "data": {
            "text/plain": [
              "array([[ 0.92021931, -0.70069682,  0.96910687, -0.66756682],\n",
              "       [ 1.29531045, -1.39124056,  0.56638258, -1.30602192],\n",
              "       [ 1.169276  , -2.89863309, -0.83027951,  1.5774419 ]])"
            ]
          },
          "metadata": {},
          "execution_count": 16
        }
      ]
    },
    {
      "cell_type": "code",
      "metadata": {
        "colab": {
          "base_uri": "https://localhost:8080/"
        },
        "id": "Mz6US4ngDLlx",
        "outputId": "a508f06c-4afc-48db-9a97-4486fa84c844"
      },
      "source": [
        "#gives 10 numbers between 1 and 100\n",
        "np.random.randint(1,100,10)\n",
        "# If we want a matrix , just give a tuple\n",
        "np.random.randint(1,100,(5,4))\n"
      ],
      "execution_count": 18,
      "outputs": [
        {
          "output_type": "execute_result",
          "data": {
            "text/plain": [
              "array([[33, 71,  6, 77],\n",
              "       [28, 92,  9, 28],\n",
              "       [34,  8,  5, 11],\n",
              "       [10, 38, 26, 65],\n",
              "       [53, 76, 82, 28]])"
            ]
          },
          "metadata": {},
          "execution_count": 18
        }
      ]
    },
    {
      "cell_type": "code",
      "metadata": {
        "colab": {
          "base_uri": "https://localhost:8080/"
        },
        "id": "bWX0A1mJD2Fo",
        "outputId": "e1631de9-359d-47df-d8b1-64ed08e310b1"
      },
      "source": [
        "#if we want to generate the same random value , \n",
        "# give a number in the seed function , Here ,\"42\"\n",
        "np.random.seed(42)\n",
        "np.random.rand(4)\n",
        "np.random.rand(4)"
      ],
      "execution_count": 21,
      "outputs": [
        {
          "output_type": "execute_result",
          "data": {
            "text/plain": [
              "array([0.15601864, 0.15599452, 0.05808361, 0.86617615])"
            ]
          },
          "metadata": {},
          "execution_count": 21
        }
      ]
    },
    {
      "cell_type": "code",
      "metadata": {
        "colab": {
          "base_uri": "https://localhost:8080/"
        },
        "id": "uyiEGzd5EOnw",
        "outputId": "9922ab7c-c942-4dd3-c883-dc7dc338947e"
      },
      "source": [
        "np.random.rand(4)"
      ],
      "execution_count": 22,
      "outputs": [
        {
          "output_type": "execute_result",
          "data": {
            "text/plain": [
              "array([0.60111501, 0.70807258, 0.02058449, 0.96990985])"
            ]
          },
          "metadata": {},
          "execution_count": 22
        }
      ]
    },
    {
      "cell_type": "code",
      "metadata": {
        "id": "_JJLQ95HEoj0"
      },
      "source": [
        "arr = np.arange(25)"
      ],
      "execution_count": 23,
      "outputs": []
    },
    {
      "cell_type": "code",
      "metadata": {
        "id": "6QTAJ3cKEut0"
      },
      "source": [
        "ranarr = np.random.randint(0,50,10)"
      ],
      "execution_count": 24,
      "outputs": []
    },
    {
      "cell_type": "code",
      "metadata": {
        "colab": {
          "base_uri": "https://localhost:8080/"
        },
        "id": "rb9QRaDDE05I",
        "outputId": "04d43402-1b3b-4c40-ed00-b31af6476558"
      },
      "source": [
        "print(arr)\n",
        "print(ranarr)"
      ],
      "execution_count": 25,
      "outputs": [
        {
          "output_type": "stream",
          "name": "stdout",
          "text": [
            "[ 0  1  2  3  4  5  6  7  8  9 10 11 12 13 14 15 16 17 18 19 20 21 22 23\n",
            " 24]\n",
            "[43 29 37  1 20 32 11 21 43 24]\n"
          ]
        }
      ]
    },
    {
      "cell_type": "code",
      "metadata": {
        "colab": {
          "base_uri": "https://localhost:8080/"
        },
        "id": "Ac60D5xAE9O7",
        "outputId": "dc6b4584-e072-41b8-a01a-d536ca0a22ba"
      },
      "source": [
        "#reshaping an array\n",
        "arr.shape\n",
        "arr.reshape(5,5)\n",
        "#the reshape does not affect the original array"
      ],
      "execution_count": 29,
      "outputs": [
        {
          "output_type": "execute_result",
          "data": {
            "text/plain": [
              "array([[ 0,  1,  2,  3,  4],\n",
              "       [ 5,  6,  7,  8,  9],\n",
              "       [10, 11, 12, 13, 14],\n",
              "       [15, 16, 17, 18, 19],\n",
              "       [20, 21, 22, 23, 24]])"
            ]
          },
          "metadata": {},
          "execution_count": 29
        }
      ]
    },
    {
      "cell_type": "code",
      "metadata": {
        "colab": {
          "base_uri": "https://localhost:8080/"
        },
        "id": "d7uN5m19FODe",
        "outputId": "86dfc0fa-d53c-4fdb-fa32-bd0cc23618c8"
      },
      "source": [
        "#getting the maximum value from the array\n",
        "print(ranarr.max())\n",
        "#getting the index of the maximum value from the array\n",
        "print(ranarr.argmax())"
      ],
      "execution_count": 33,
      "outputs": [
        {
          "output_type": "stream",
          "name": "stdout",
          "text": [
            "43\n",
            "0\n"
          ]
        }
      ]
    },
    {
      "cell_type": "code",
      "metadata": {
        "colab": {
          "base_uri": "https://localhost:8080/"
        },
        "id": "6i-u1BifForu",
        "outputId": "41151cac-4dc9-4b3f-d567-8855082a9303"
      },
      "source": [
        "#getting the minimum value from the array\n",
        "print(ranarr.min())\n",
        "#getting the index of the minimum value from the array\n",
        "print(ranarr.argmin())"
      ],
      "execution_count": 35,
      "outputs": [
        {
          "output_type": "stream",
          "name": "stdout",
          "text": [
            "1\n",
            "3\n"
          ]
        }
      ]
    },
    {
      "cell_type": "code",
      "metadata": {
        "colab": {
          "base_uri": "https://localhost:8080/"
        },
        "id": "qamyvwH-F-Mv",
        "outputId": "46474fff-6bed-4435-fdda-add5e21bc028"
      },
      "source": [
        "#checking the datatype of the elements of the array\n",
        "ranarr.dtype"
      ],
      "execution_count": 36,
      "outputs": [
        {
          "output_type": "execute_result",
          "data": {
            "text/plain": [
              "dtype('int64')"
            ]
          },
          "metadata": {},
          "execution_count": 36
        }
      ]
    },
    {
      "cell_type": "code",
      "metadata": {
        "colab": {
          "base_uri": "https://localhost:8080/"
        },
        "id": "_6mdj1r3GE2U",
        "outputId": "69c0e00e-2833-489c-8910-7f0737cbd170"
      },
      "source": [
        "mylist1 = ['sonu','kumar']\n",
        "newarr = np.array(mylist1)\n",
        "print(newarr)\n",
        "print(newarr.dtype)"
      ],
      "execution_count": 38,
      "outputs": [
        {
          "output_type": "stream",
          "name": "stdout",
          "text": [
            "['sonu' 'kumar']\n",
            "<U5\n"
          ]
        }
      ]
    },
    {
      "cell_type": "markdown",
      "metadata": {
        "id": "xqYrOcIMGjd0"
      },
      "source": [
        "# Numpy index Selection"
      ]
    },
    {
      "cell_type": "code",
      "metadata": {
        "colab": {
          "base_uri": "https://localhost:8080/"
        },
        "id": "dQeakFbqGme2",
        "outputId": "60d77318-cae4-4762-c029-17b60a8a304a"
      },
      "source": [
        "arr = np.arange(0,11)\n",
        "print(arr)"
      ],
      "execution_count": 40,
      "outputs": [
        {
          "output_type": "stream",
          "name": "stdout",
          "text": [
            "[ 0  1  2  3  4  5  6  7  8  9 10]\n"
          ]
        }
      ]
    },
    {
      "cell_type": "code",
      "metadata": {
        "colab": {
          "base_uri": "https://localhost:8080/"
        },
        "id": "OlvFEAwgGxf6",
        "outputId": "9bcefa52-d172-4be8-aaa1-20253010881c"
      },
      "source": [
        "#retreiving an element from a particular index\n",
        "print(arr[8])\n",
        "#slicing a numpy array is also same as slicing a python list\n",
        "#up to but not including\n",
        "print(arr[1:5])"
      ],
      "execution_count": 42,
      "outputs": [
        {
          "output_type": "stream",
          "name": "stdout",
          "text": [
            "8\n",
            "[1 2 3 4]\n"
          ]
        }
      ]
    },
    {
      "cell_type": "code",
      "metadata": {
        "colab": {
          "base_uri": "https://localhost:8080/"
        },
        "id": "EGAh6LERHGIx",
        "outputId": "56485f97-79a4-4a44-ff7a-ff0ba25b837d"
      },
      "source": [
        "arr[5:]"
      ],
      "execution_count": 43,
      "outputs": [
        {
          "output_type": "execute_result",
          "data": {
            "text/plain": [
              "array([ 5,  6,  7,  8,  9, 10])"
            ]
          },
          "metadata": {},
          "execution_count": 43
        }
      ]
    },
    {
      "cell_type": "code",
      "metadata": {
        "colab": {
          "base_uri": "https://localhost:8080/"
        },
        "id": "UR4s5Ev1HQca",
        "outputId": "1de44a17-d529-41e9-d6e5-5400d408056d"
      },
      "source": [
        "arr"
      ],
      "execution_count": 44,
      "outputs": [
        {
          "output_type": "execute_result",
          "data": {
            "text/plain": [
              "array([ 0,  1,  2,  3,  4,  5,  6,  7,  8,  9, 10])"
            ]
          },
          "metadata": {},
          "execution_count": 44
        }
      ]
    },
    {
      "cell_type": "code",
      "metadata": {
        "id": "XLT9_lN7HZrG"
      },
      "source": [
        "#this is called broadcasting..\n",
        "#it will not happen in normal python list\n",
        "arr[0:5] = 100"
      ],
      "execution_count": 45,
      "outputs": []
    },
    {
      "cell_type": "code",
      "metadata": {
        "colab": {
          "base_uri": "https://localhost:8080/"
        },
        "id": "m_6eFVjiHYop",
        "outputId": "388124f4-394e-456c-e27d-ff9296e1a9ce"
      },
      "source": [
        "arr"
      ],
      "execution_count": 46,
      "outputs": [
        {
          "output_type": "execute_result",
          "data": {
            "text/plain": [
              "array([100, 100, 100, 100, 100,   5,   6,   7,   8,   9,  10])"
            ]
          },
          "metadata": {},
          "execution_count": 46
        }
      ]
    },
    {
      "cell_type": "code",
      "metadata": {
        "colab": {
          "base_uri": "https://localhost:8080/"
        },
        "id": "STQ3E-c0HqCM",
        "outputId": "8ac4d6fb-14c3-4d9e-8122-78d4cb58e98b"
      },
      "source": [
        "arr = np.arange(0,11)\n",
        "slice_of_arr = arr[0:5]\n",
        "print(slice_of_arr)\n",
        "print(arr)"
      ],
      "execution_count": 48,
      "outputs": [
        {
          "output_type": "stream",
          "name": "stdout",
          "text": [
            "[0 1 2 3 4]\n",
            "[ 0  1  2  3  4  5  6  7  8  9 10]\n"
          ]
        }
      ]
    },
    {
      "cell_type": "code",
      "metadata": {
        "colab": {
          "base_uri": "https://localhost:8080/"
        },
        "id": "e0v7qSiEH6n5",
        "outputId": "0a288485-e300-47d3-e7f7-23db0739b587"
      },
      "source": [
        "#If we change anything in the slice of the array,\n",
        "#It will also affect the original arr\n",
        "slice_of_arr[:]  =  99\n",
        "print(slice_of_arr)\n",
        "print(arr)"
      ],
      "execution_count": 49,
      "outputs": [
        {
          "output_type": "stream",
          "name": "stdout",
          "text": [
            "[99 99 99 99 99]\n",
            "[99 99 99 99 99  5  6  7  8  9 10]\n"
          ]
        }
      ]
    },
    {
      "cell_type": "code",
      "metadata": {
        "colab": {
          "base_uri": "https://localhost:8080/"
        },
        "id": "QGKqWFomIM9w",
        "outputId": "5433f559-2eea-4c6c-b7c0-0b3af198d3a5"
      },
      "source": [
        "#To avoid this the above situation , We use the copy function while copying a full array or part of it\n",
        "arr_copy = arr.copy()\n",
        "print(arr_copy)\n",
        "arr_copy[:] = 100\n",
        "print(arr_copy)\n",
        "print(arr)"
      ],
      "execution_count": 53,
      "outputs": [
        {
          "output_type": "stream",
          "name": "stdout",
          "text": [
            "[99 99 99 99 99  5  6  7  8  9 10]\n",
            "[100 100 100 100 100 100 100 100 100 100 100]\n",
            "[99 99 99 99 99  5  6  7  8  9 10]\n"
          ]
        }
      ]
    },
    {
      "cell_type": "code",
      "metadata": {
        "colab": {
          "base_uri": "https://localhost:8080/"
        },
        "id": "aDAjglopIpAR",
        "outputId": "594fdcb2-0fb0-4ee5-905d-1d549ce8c472"
      },
      "source": [
        "arr_part_copy = arr[2:5].copy()\n",
        "print(arr_part_copy)\n",
        "arr_part_copy[:] = 0\n",
        "print(arr_part_copy)\n",
        "print(arr)"
      ],
      "execution_count": 55,
      "outputs": [
        {
          "output_type": "stream",
          "name": "stdout",
          "text": [
            "[99 99 99]\n",
            "[0 0 0]\n",
            "[99 99 99 99 99  5  6  7  8  9 10]\n"
          ]
        }
      ]
    },
    {
      "cell_type": "code",
      "metadata": {
        "colab": {
          "base_uri": "https://localhost:8080/"
        },
        "id": "tFr2jm01I3Hy",
        "outputId": "97d508a9-670c-456e-be38-834fe2f844bb"
      },
      "source": [
        "arr_2d = np.array([[5,10,15],[20,25,30],[30,35,40]])\n",
        "print(arr_2d)\n",
        "#retreiving a particular element from the np array is same as python\n",
        "print(arr_2d[0][1])\n",
        "#Another Way\n",
        "print(arr_2d[0,1])\n",
        "print(f\"the shape of the matrix created is : {arr_2d.shape}\")"
      ],
      "execution_count": 61,
      "outputs": [
        {
          "output_type": "stream",
          "name": "stdout",
          "text": [
            "[[ 5 10 15]\n",
            " [20 25 30]\n",
            " [30 35 40]]\n",
            "10\n",
            "10\n",
            "the shape of the matrix created is : (3, 3)\n"
          ]
        }
      ]
    },
    {
      "cell_type": "code",
      "metadata": {
        "id": "Pqx2QZbtJfss"
      },
      "source": [
        "arr = np.arange(1,11)"
      ],
      "execution_count": 60,
      "outputs": []
    },
    {
      "cell_type": "code",
      "metadata": {
        "colab": {
          "base_uri": "https://localhost:8080/"
        },
        "id": "mYg7h-P_KInm",
        "outputId": "31f314c2-79f5-4a4f-c4a0-e1e9a823144d"
      },
      "source": [
        "#conditional checking\n",
        "#check for all elements in the numpy array for which value is greater than 4\n",
        "arr > 4"
      ],
      "execution_count": 63,
      "outputs": [
        {
          "output_type": "execute_result",
          "data": {
            "text/plain": [
              "array([False, False, False, False,  True,  True,  True,  True,  True,\n",
              "        True])"
            ]
          },
          "metadata": {},
          "execution_count": 63
        }
      ]
    },
    {
      "cell_type": "code",
      "metadata": {
        "colab": {
          "base_uri": "https://localhost:8080/"
        },
        "id": "wxZlVSFOKlwl",
        "outputId": "6cffe86e-2211-4a41-8f6f-6f0722029eb4"
      },
      "source": [
        "#returns only those values where bool_arr value is True\n",
        "bool_arr = arr > 4\n",
        "arr[bool_arr]\n",
        "#in one step\n",
        "print(arr[arr > 4])"
      ],
      "execution_count": 66,
      "outputs": [
        {
          "output_type": "stream",
          "name": "stdout",
          "text": [
            "[ 5  6  7  8  9 10]\n"
          ]
        }
      ]
    },
    {
      "cell_type": "markdown",
      "metadata": {
        "id": "epAnkcCvLLz2"
      },
      "source": [
        "# NumPy Operations"
      ]
    },
    {
      "cell_type": "code",
      "metadata": {
        "colab": {
          "base_uri": "https://localhost:8080/"
        },
        "id": "PhlZEuQDLRRo",
        "outputId": "c61bf500-f764-4589-87da-57d9c3db8b5a"
      },
      "source": [
        "arr =  np.arange(0,10)\n",
        "print(arr)"
      ],
      "execution_count": 69,
      "outputs": [
        {
          "output_type": "stream",
          "name": "stdout",
          "text": [
            "[0 1 2 3 4 5 6 7 8 9]\n"
          ]
        }
      ]
    },
    {
      "cell_type": "code",
      "metadata": {
        "colab": {
          "base_uri": "https://localhost:8080/"
        },
        "id": "1dTJecVkLgKZ",
        "outputId": "406f9e13-48b1-4fd5-a7c4-0ba16cdd4a3e"
      },
      "source": [
        "#Adding a value to the array will add the value to each element as follows:\n",
        "arr + 5"
      ],
      "execution_count": 68,
      "outputs": [
        {
          "output_type": "execute_result",
          "data": {
            "text/plain": [
              "array([ 5,  6,  7,  8,  9, 10, 11, 12, 13, 14])"
            ]
          },
          "metadata": {},
          "execution_count": 68
        }
      ]
    },
    {
      "cell_type": "code",
      "metadata": {
        "colab": {
          "base_uri": "https://localhost:8080/"
        },
        "id": "CmEbs-Z-LtjB",
        "outputId": "11d82f57-a901-49dc-b86f-79aa81d9c239"
      },
      "source": [
        "#For this to work , arr has to be of same shape\n",
        "arr + arr"
      ],
      "execution_count": 70,
      "outputs": [
        {
          "output_type": "execute_result",
          "data": {
            "text/plain": [
              "array([ 0,  2,  4,  6,  8, 10, 12, 14, 16, 18])"
            ]
          },
          "metadata": {},
          "execution_count": 70
        }
      ]
    },
    {
      "cell_type": "code",
      "metadata": {
        "colab": {
          "base_uri": "https://localhost:8080/"
        },
        "id": "NTZ2yciuL45W",
        "outputId": "980e653e-824a-4699-fd3f-e6c9b205b30c"
      },
      "source": [
        "#Multiplication of Two Array\n",
        "arr * arr"
      ],
      "execution_count": 71,
      "outputs": [
        {
          "output_type": "execute_result",
          "data": {
            "text/plain": [
              "array([ 0,  1,  4,  9, 16, 25, 36, 49, 64, 81])"
            ]
          },
          "metadata": {},
          "execution_count": 71
        }
      ]
    },
    {
      "cell_type": "code",
      "metadata": {
        "colab": {
          "base_uri": "https://localhost:8080/"
        },
        "id": "p_1_O_YpL-eF",
        "outputId": "d52d18cf-9aa4-4d59-b496-b77cc5f467c8"
      },
      "source": [
        "#Division of two array\n",
        "# 0 / 0 or any number divided  by zero will output as \"nan\" :- not a number by numpy \n",
        "# And also gives a warning\n",
        "arr / arr"
      ],
      "execution_count": 73,
      "outputs": [
        {
          "output_type": "stream",
          "name": "stderr",
          "text": [
            "/usr/local/lib/python3.7/dist-packages/ipykernel_launcher.py:3: RuntimeWarning: invalid value encountered in true_divide\n",
            "  This is separate from the ipykernel package so we can avoid doing imports until\n"
          ]
        },
        {
          "output_type": "execute_result",
          "data": {
            "text/plain": [
              "array([nan,  1.,  1.,  1.,  1.,  1.,  1.,  1.,  1.,  1.])"
            ]
          },
          "metadata": {},
          "execution_count": 73
        }
      ]
    },
    {
      "cell_type": "code",
      "metadata": {
        "colab": {
          "base_uri": "https://localhost:8080/"
        },
        "id": "-g29TZ4PMPaa",
        "outputId": "5fb5afa0-1aeb-476a-ea59-27d4781f1170"
      },
      "source": [
        "#Square root of every number in the array\n",
        "print(np.sqrt(arr))\n",
        "#Taking Sin value of every element of the array\n",
        "print(np.sin(arr))\n",
        "#Taking natural log of every element of the array\n",
        "print(np.log(arr))"
      ],
      "execution_count": 75,
      "outputs": [
        {
          "output_type": "stream",
          "name": "stdout",
          "text": [
            "[0.         1.         1.41421356 1.73205081 2.         2.23606798\n",
            " 2.44948974 2.64575131 2.82842712 3.        ]\n",
            "[ 0.          0.84147098  0.90929743  0.14112001 -0.7568025  -0.95892427\n",
            " -0.2794155   0.6569866   0.98935825  0.41211849]\n",
            "[      -inf 0.         0.69314718 1.09861229 1.38629436 1.60943791\n",
            " 1.79175947 1.94591015 2.07944154 2.19722458]\n"
          ]
        },
        {
          "output_type": "stream",
          "name": "stderr",
          "text": [
            "/usr/local/lib/python3.7/dist-packages/ipykernel_launcher.py:6: RuntimeWarning: divide by zero encountered in log\n",
            "  \n"
          ]
        }
      ]
    },
    {
      "cell_type": "code",
      "metadata": {
        "colab": {
          "base_uri": "https://localhost:8080/"
        },
        "id": "PPZvLM7dNPZP",
        "outputId": "091577d7-eaec-4c19-965c-445a5fb6dc66"
      },
      "source": [
        "print(arr.sum())\n",
        "print(arr.max())\n",
        "print(arr.mean())"
      ],
      "execution_count": 76,
      "outputs": [
        {
          "output_type": "stream",
          "name": "stdout",
          "text": [
            "45\n",
            "9\n",
            "4.5\n"
          ]
        }
      ]
    },
    {
      "cell_type": "code",
      "metadata": {
        "colab": {
          "base_uri": "https://localhost:8080/"
        },
        "id": "uomW1z1gNZCd",
        "outputId": "548f1542-75f9-4e7b-a116-7263ef78eb83"
      },
      "source": [
        "arr_2d = np.arange(0,25).reshape(5,5)\n",
        "print(arr_2d)"
      ],
      "execution_count": 78,
      "outputs": [
        {
          "output_type": "stream",
          "name": "stdout",
          "text": [
            "[[ 0  1  2  3  4]\n",
            " [ 5  6  7  8  9]\n",
            " [10 11 12 13 14]\n",
            " [15 16 17 18 19]\n",
            " [20 21 22 23 24]]\n"
          ]
        }
      ]
    },
    {
      "cell_type": "code",
      "metadata": {
        "colab": {
          "base_uri": "https://localhost:8080/"
        },
        "id": "MF1yUlmQNjpQ",
        "outputId": "951fb624-34af-4141-a718-f39ab1e0d2bb"
      },
      "source": [
        "#Using Numpy operations on the 2D array\n",
        "print(arr_2d.sum())\n",
        "print(arr_2d + 5)"
      ],
      "execution_count": 79,
      "outputs": [
        {
          "output_type": "stream",
          "name": "stdout",
          "text": [
            "300\n",
            "[[ 5  6  7  8  9]\n",
            " [10 11 12 13 14]\n",
            " [15 16 17 18 19]\n",
            " [20 21 22 23 24]\n",
            " [25 26 27 28 29]]\n"
          ]
        }
      ]
    },
    {
      "cell_type": "code",
      "metadata": {
        "colab": {
          "base_uri": "https://localhost:8080/"
        },
        "id": "oSyLXeivN3Dh",
        "outputId": "77f5b8db-b2ff-486a-a952-88ef5a8f135e"
      },
      "source": [
        "#Sum of all rows and all the column\n",
        "#By the use of the axis, Rows = (Axis = 0)\n",
        "#Column = (Axis = 1)\n",
        "print(arr_2d.sum(axis = 0))\n",
        "print(arr_2d.sum(axis = 1))"
      ],
      "execution_count": 81,
      "outputs": [
        {
          "output_type": "stream",
          "name": "stdout",
          "text": [
            "[50 55 60 65 70]\n",
            "[ 10  35  60  85 110]\n"
          ]
        }
      ]
    }
  ]
}